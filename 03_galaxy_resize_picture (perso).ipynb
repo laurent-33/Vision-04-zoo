{
 "cells": [
  {
   "cell_type": "code",
   "execution_count": 1,
   "metadata": {},
   "outputs": [],
   "source": [
    "import pandas as pd\n",
    "from pandas import read_csv\n",
    "import matplotlib.image as mpimg\n",
    "import matplotlib.pyplot as plt\n",
    "import numpy as np\n",
    "import cv2\n",
    "import glob\n",
    "import os"
   ]
  },
  {
   "cell_type": "code",
   "execution_count": 2,
   "metadata": {},
   "outputs": [],
   "source": [
    "def scan_size(path_im):\n",
    "    ws = []\n",
    "    hs = []\n",
    "    \n",
    "    for path in path_im:\n",
    "        # récupération des images\n",
    "        img = cv2.imread(path)\n",
    "        img = cv2.pyrDown(img)\n",
    "        img_grey = cv2.cvtColor(img, cv2.COLOR_BGR2GRAY)\n",
    "\n",
    "        # génération du masque de contour\n",
    "        ret, thresh = cv2.threshold(img_grey, thresh=40, maxval=255, type=0)\n",
    "        contours, hierarchy = cv2.findContours(thresh, 1, 2)\n",
    "\n",
    "        # Récupération de la forme centrale\n",
    "        middle_img = round(img.shape[0]/2)\n",
    "        for contour in contours:\n",
    "            if cv2.pointPolygonTest(contour,(middle_img,middle_img),False) == 1:\n",
    "                cnt = contour\n",
    "                continue\n",
    "\n",
    "        # ciblage avec rectangle\n",
    "        _,_,w,h = cv2.boundingRect(cnt)\n",
    "        ws += [w]\n",
    "        hs += [h]\n",
    "        \n",
    "    return ws, hs"
   ]
  },
  {
   "cell_type": "code",
   "execution_count": 3,
   "metadata": {},
   "outputs": [],
   "source": [
    "im_path = glob.glob('../../../images_training_rev1/*.jpg')"
   ]
  },
  {
   "cell_type": "code",
   "execution_count": 4,
   "metadata": {},
   "outputs": [],
   "source": [
    "ws, hs = scan_size(im_path)"
   ]
  },
  {
   "cell_type": "code",
   "execution_count": 35,
   "metadata": {},
   "outputs": [
    {
     "data": {
      "image/png": "[encoded data removed]",
      "text/plain": [
       "<Figure size 1080x216 with 2 Axes>"
      ]
     },
     "metadata": {
      "needs_background": "light"
     },
     "output_type": "display_data"
    }
   ],
   "source": [
    "plt.figure(figsize=(15, 3))\n",
    "plt.subplot(1, 2, 1)\n",
    "plt.hist(ws, edgecolor='black');\n",
    "plt.subplot(1, 2, 2)\n",
    "plt.hist(hs, edgecolor='black');"
   ]
  },
  {
   "cell_type": "code",
   "execution_count": 75,
   "metadata": {},
   "outputs": [
    {
     "name": "stdout",
     "output_type": "stream",
     "text": [
      "w <= 70 : 86%\n",
      "h <= 70 : 86%\n"
     ]
    }
   ],
   "source": [
    "size = 70\n",
    "\n",
    "data = 0\n",
    "for w in ws:\n",
    "    if w <= size:\n",
    "        data += 1\n",
    "print(f'w <= {size} : {round(100*data/len(ws))}%')\n",
    "\n",
    "data = 0\n",
    "for h in hs:\n",
    "    if h <= size:\n",
    "        data += 1\n",
    "print(f'h <= {size} : {round(100*data/len(hs))}%')"
   ]
  },
  {
   "cell_type": "code",
   "execution_count": 3,
   "metadata": {},
   "outputs": [],
   "source": [
    "def crop_im(path_im):\n",
    "    height_max = 0\n",
    "    width_max = 0\n",
    "    \n",
    "    for path in path_im:\n",
    "        # récupération nom de l'image\n",
    "        im_name = os.path.basename(path)\n",
    "\n",
    "        # récupération des images\n",
    "        img = cv2.imread(path)\n",
    "        img = cv2.pyrDown(img)\n",
    "        img_grey = cv2.cvtColor(img, cv2.COLOR_BGR2GRAY)\n",
    "        \n",
    "        # génération du masque de contour\n",
    "        ret, thresh = cv2.threshold(img_grey, thresh=40, maxval=255, type=0)\n",
    "        contours, hierarchy = cv2.findContours(thresh, 1, 2)\n",
    "\n",
    "        # Récupération de la forme centrale\n",
    "        middle_img = round(img.shape[0]/2)\n",
    "        for contour in contours:\n",
    "            if cv2.pointPolygonTest(contour,(middle_img,middle_img),False) == 1:\n",
    "                cnt = contour\n",
    "                continue\n",
    "\n",
    "        # ciblage avec rectangle\n",
    "        x,y,w,h = cv2.boundingRect(cnt)\n",
    "        ws += [w]\n",
    "        hs += [h]\n",
    "        cv2.rectangle(img, (x, y), (x+w, y+h), (255, 0, 0), 2)\n",
    "\n",
    "        # récupération image inclue dans le rectangle\n",
    "        img_crop = img[y:y+h, x:x+w]\n",
    "\n",
    "        # sauvegarde nouvelle image\n",
    "        new_folder = os.path.dirname(path) + '_resize/'\n",
    "        cv2.imwrite(new_folder + im_name, img_crop)\n",
    "        \n",
    "        if h > height_max:\n",
    "            height_max = h\n",
    "        if w > width_max:\n",
    "            width_max = w\n",
    "\n",
    "    return ws, hs"
   ]
  },
  {
   "cell_type": "code",
   "execution_count": 4,
   "metadata": {},
   "outputs": [],
   "source": [
    "ws, hs = crop_im(im_path)"
   ]
  },
  {
   "cell_type": "code",
   "execution_count": 40,
   "metadata": {},
   "outputs": [
    {
     "data": {
      "text/plain": [
       "True"
      ]
     },
     "execution_count": 40,
     "metadata": {},
     "output_type": "execute_result"
    }
   ],
   "source": [
    "black = np.zeros((size,size,3), np.uint8)\n",
    "cv2.imwrite('./blacksquare.jpg',black)"
   ]
  },
  {
   "cell_type": "code",
   "execution_count": 71,
   "metadata": {},
   "outputs": [],
   "source": [
    "def black_square(s_img, black_img):\n",
    "    size = black_img.shape[0]\n",
    "    \n",
    "    # Recadrage de l'image si plus grande que le carré noir\n",
    "    if s_img.shape[1] > size or s_img.shape[0] > size:\n",
    "        ximg_offset= max(0, int((s_img.shape[1] - size) / 2 )) \n",
    "        yimg_offset= max(0, int((s_img.shape[0] - size) / 2 ))\n",
    "        s_img = s_img[yimg_offset:yimg_offset+size, ximg_offset:ximg_offset+size]\n",
    "    \n",
    "    # Extension de l'image avec du noir\n",
    "    x_offset= round((black_img.shape[1] - s_img.shape[1]) / 2 ) \n",
    "    y_offset= round((black_img.shape[0] - s_img.shape[0]) / 2 )\n",
    "    black_img[y_offset:y_offset+s_img.shape[0], x_offset:x_offset+s_img.shape[1]] = s_img\n",
    "    return black_img"
   ]
  },
  {
   "cell_type": "code",
   "execution_count": 51,
   "metadata": {},
   "outputs": [],
   "source": [
    "im_path_resize = glob.glob('../../../images_training_rev1_resize/*.jpg')"
   ]
  },
  {
   "cell_type": "code",
   "execution_count": 69,
   "metadata": {},
   "outputs": [],
   "source": [
    "def black_square_dir(path_im_resize):\n",
    "    for path in path_im_resize:\n",
    "        # récupération nom de l'image\n",
    "        im_name = os.path.basename(path)\n",
    "        \n",
    "        # récupération des images\n",
    "        img = cv2.imread(path)\n",
    "\n",
    "        # Mise à taille d'image identique\n",
    "        black_img = cv2.imread(\"blacksquare.jpg\")\n",
    "        img_black = black_square(img, black_img)\n",
    "        \n",
    "        # sauvegarde nouvelle image\n",
    "        new_folder = os.path.dirname(path) + '_black/'\n",
    "        cv2.imwrite(new_folder + im_name, img_black)\n",
    "        \n",
    "    return img_black.shape"
   ]
  },
  {
   "cell_type": "code",
   "execution_count": 72,
   "metadata": {},
   "outputs": [
    {
     "data": {
      "text/plain": [
       "(70, 70, 3)"
      ]
     },
     "execution_count": 72,
     "metadata": {},
     "output_type": "execute_result"
    }
   ],
   "source": [
    "black_square_dir(im_path_resize)"
   ]
  },
  {
   "cell_type": "code",
   "execution_count": null,
   "metadata": {},
   "outputs": [],
   "source": []
  },
  {
   "cell_type": "code",
   "execution_count": null,
   "metadata": {},
   "outputs": [],
   "source": []
  },
  {
   "cell_type": "code",
   "execution_count": null,
   "metadata": {},
   "outputs": [],
   "source": []
  },
  {
   "cell_type": "code",
   "execution_count": null,
   "metadata": {},
   "outputs": [],
   "source": []
  },
  {
   "cell_type": "code",
   "execution_count": null,
   "metadata": {},
   "outputs": [],
   "source": []
  },
  {
   "cell_type": "code",
   "execution_count": null,
   "metadata": {},
   "outputs": [],
   "source": []
  }
 ],
 "metadata": {
  "kernelspec": {
   "display_name": "Python 3",
   "language": "python",
   "name": "python3"
  },
  "language_info": {
   "codemirror_mode": {
    "name": "ipython",
    "version": 3
   },
   "file_extension": ".py",
   "mimetype": "text/x-python",
   "name": "python",
   "nbconvert_exporter": "python",
   "pygments_lexer": "ipython3",
   "version": "3.7.3"
  },
  "toc": {
   "base_numbering": 1,
   "nav_menu": {},
   "number_sections": true,
   "sideBar": true,
   "skip_h1_title": false,
   "title_cell": "Table of Contents",
   "title_sidebar": "Contents",
   "toc_cell": false,
   "toc_position": {},
   "toc_section_display": true,
   "toc_window_display": false
  }
 },
 "nbformat": 4,
 "nbformat_minor": 2
}
