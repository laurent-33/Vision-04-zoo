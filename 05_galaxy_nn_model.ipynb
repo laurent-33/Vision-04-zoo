{
 "cells": [
  {
   "cell_type": "code",
   "execution_count": 1,
   "metadata": {},
   "outputs": [
    {
     "name": "stderr",
     "output_type": "stream",
     "text": [
      "Using TensorFlow backend.\n"
     ]
    }
   ],
   "source": [
    "import pandas as pd\n",
    "import matplotlib.image as mpimg\n",
    "import matplotlib.pyplot as plt\n",
    "import numpy as np\n",
    "import cv2\n",
    "import glob\n",
    "import os\n",
    "from sklearn.model_selection import train_test_split\n",
    "from sklearn import metrics\n",
    "\n",
    "import keras\n",
    "from keras.models import Sequential\n",
    "from keras.layers import Input, Dense, Dropout, Flatten, Activation, MaxPooling2D, GlobalMaxPooling2D\n",
    "from keras.layers import Conv2D, MaxPooling2D\n",
    "from keras.callbacks import EarlyStopping\n",
    "from tensorflow.keras.optimizers import SGD, Adam, Adamax, Adadelta, Adagrad, RMSprop"
   ]
  },
  {
   "cell_type": "markdown",
   "metadata": {},
   "source": [
    "# Importation des images"
   ]
  },
  {
   "cell_type": "markdown",
   "metadata": {},
   "source": [
    "## Création d'une fonction pour scanner un répertoire"
   ]
  },
  {
   "cell_type": "code",
   "execution_count": 2,
   "metadata": {},
   "outputs": [],
   "source": [
    "def scan_size(path_im):\n",
    "    images = {}\n",
    "    for path in path_im[:5000]:\n",
    "        # récupération nom de l'image\n",
    "        im_name = os.path.basename(path)\n",
    "        \n",
    "        # récupération des images\n",
    "        img = cv2.imread(path)\n",
    "        images[int(im_name[:-4])] = cv2.cvtColor(img, cv2.COLOR_BGR2RGB)\n",
    "    \n",
    "    return images"
   ]
  },
  {
   "cell_type": "code",
   "execution_count": 3,
   "metadata": {},
   "outputs": [],
   "source": [
    "im_path = glob.glob('../../../images_training_rev1_resize_black/*.jpg')"
   ]
  },
  {
   "cell_type": "code",
   "execution_count": 4,
   "metadata": {},
   "outputs": [],
   "source": [
    "images = scan_size(im_path)"
   ]
  },
  {
   "cell_type": "code",
   "execution_count": 5,
   "metadata": {},
   "outputs": [],
   "source": [
    "images_id = list(images.keys())"
   ]
  },
  {
   "cell_type": "markdown",
   "metadata": {},
   "source": [
    "## Récupération des outputs correspondants aux images chargées"
   ]
  },
  {
   "cell_type": "code",
   "execution_count": 6,
   "metadata": {},
   "outputs": [],
   "source": [
    "Y_trainfull = pd.read_csv('./csv/max_benchmark.csv', index_col=0)"
   ]
  },
  {
   "cell_type": "code",
   "execution_count": 7,
   "metadata": {},
   "outputs": [
    {
     "data": {
      "text/html": [
       "<div>\n",
       "<style scoped>\n",
       "    .dataframe tbody tr th:only-of-type {\n",
       "        vertical-align: middle;\n",
       "    }\n",
       "\n",
       "    .dataframe tbody tr th {\n",
       "        vertical-align: top;\n",
       "    }\n",
       "\n",
       "    .dataframe thead th {\n",
       "        text-align: right;\n",
       "    }\n",
       "</style>\n",
       "<table border=\"1\" class=\"dataframe\">\n",
       "  <thead>\n",
       "    <tr style=\"text-align: right;\">\n",
       "      <th></th>\n",
       "      <th>shape_Class1.1</th>\n",
       "      <th>shape_Class1.2</th>\n",
       "      <th>shape_Class1.3</th>\n",
       "    </tr>\n",
       "    <tr>\n",
       "      <th>GalaxyID</th>\n",
       "      <th></th>\n",
       "      <th></th>\n",
       "      <th></th>\n",
       "    </tr>\n",
       "  </thead>\n",
       "  <tbody>\n",
       "    <tr>\n",
       "      <th>100008</th>\n",
       "      <td>0</td>\n",
       "      <td>1</td>\n",
       "      <td>0</td>\n",
       "    </tr>\n",
       "    <tr>\n",
       "      <th>100023</th>\n",
       "      <td>0</td>\n",
       "      <td>1</td>\n",
       "      <td>0</td>\n",
       "    </tr>\n",
       "    <tr>\n",
       "      <th>100078</th>\n",
       "      <td>1</td>\n",
       "      <td>0</td>\n",
       "      <td>0</td>\n",
       "    </tr>\n",
       "    <tr>\n",
       "      <th>100090</th>\n",
       "      <td>1</td>\n",
       "      <td>0</td>\n",
       "      <td>0</td>\n",
       "    </tr>\n",
       "    <tr>\n",
       "      <th>100122</th>\n",
       "      <td>1</td>\n",
       "      <td>0</td>\n",
       "      <td>0</td>\n",
       "    </tr>\n",
       "    <tr>\n",
       "      <th>...</th>\n",
       "      <td>...</td>\n",
       "      <td>...</td>\n",
       "      <td>...</td>\n",
       "    </tr>\n",
       "    <tr>\n",
       "      <th>182956</th>\n",
       "      <td>0</td>\n",
       "      <td>1</td>\n",
       "      <td>0</td>\n",
       "    </tr>\n",
       "    <tr>\n",
       "      <th>182961</th>\n",
       "      <td>0</td>\n",
       "      <td>1</td>\n",
       "      <td>0</td>\n",
       "    </tr>\n",
       "    <tr>\n",
       "      <th>182971</th>\n",
       "      <td>0</td>\n",
       "      <td>1</td>\n",
       "      <td>0</td>\n",
       "    </tr>\n",
       "    <tr>\n",
       "      <th>182972</th>\n",
       "      <td>0</td>\n",
       "      <td>1</td>\n",
       "      <td>0</td>\n",
       "    </tr>\n",
       "    <tr>\n",
       "      <th>182982</th>\n",
       "      <td>0</td>\n",
       "      <td>1</td>\n",
       "      <td>0</td>\n",
       "    </tr>\n",
       "  </tbody>\n",
       "</table>\n",
       "<p>5000 rows × 3 columns</p>\n",
       "</div>"
      ],
      "text/plain": [
       "          shape_Class1.1  shape_Class1.2  shape_Class1.3\n",
       "GalaxyID                                                \n",
       "100008                 0               1               0\n",
       "100023                 0               1               0\n",
       "100078                 1               0               0\n",
       "100090                 1               0               0\n",
       "100122                 1               0               0\n",
       "...                  ...             ...             ...\n",
       "182956                 0               1               0\n",
       "182961                 0               1               0\n",
       "182971                 0               1               0\n",
       "182972                 0               1               0\n",
       "182982                 0               1               0\n",
       "\n",
       "[5000 rows x 3 columns]"
      ]
     },
     "execution_count": 7,
     "metadata": {},
     "output_type": "execute_result"
    }
   ],
   "source": [
    "Y_trainfull = Y_trainfull.loc[images_id, :]\n",
    "Y_trainfull"
   ]
  },
  {
   "cell_type": "code",
   "execution_count": 72,
   "metadata": {},
   "outputs": [
    {
     "data": {
      "text/plain": [
       "5000"
      ]
     },
     "execution_count": 72,
     "metadata": {},
     "output_type": "execute_result"
    }
   ],
   "source": [
    "len(images)"
   ]
  },
  {
   "cell_type": "markdown",
   "metadata": {},
   "source": [
    "## Aperçu des classes de galaxies"
   ]
  },
  {
   "cell_type": "code",
   "execution_count": 8,
   "metadata": {},
   "outputs": [
    {
     "data": {
      "text/plain": [
       "shape_Class1.1    2209\n",
       "shape_Class1.2    2791\n",
       "shape_Class1.3       0\n",
       "dtype: int64"
      ]
     },
     "execution_count": 8,
     "metadata": {},
     "output_type": "execute_result"
    }
   ],
   "source": [
    "Y_trainfull.sum()"
   ]
  },
  {
   "cell_type": "markdown",
   "metadata": {},
   "source": [
    "# Séparation des données en ensembles d'entraînement et de validation"
   ]
  },
  {
   "cell_type": "code",
   "execution_count": 9,
   "metadata": {},
   "outputs": [],
   "source": [
    "X_train_id, x_val_id, Y_train, y_val = train_test_split(images_id, Y_trainfull, test_size=0.2, random_state=15)"
   ]
  },
  {
   "cell_type": "code",
   "execution_count": 10,
   "metadata": {},
   "outputs": [
    {
     "name": "stdout",
     "output_type": "stream",
     "text": [
      "4000\n",
      "4000\n",
      "1000\n",
      "1000\n"
     ]
    }
   ],
   "source": [
    "print(len(X_train_id))\n",
    "print(len(Y_train))\n",
    "print(len(x_val_id))\n",
    "print(len(y_val))"
   ]
  },
  {
   "cell_type": "code",
   "execution_count": 11,
   "metadata": {},
   "outputs": [],
   "source": [
    "def images_from_id(images_id, images):\n",
    "    images_selected = []\n",
    "    \n",
    "    for image_id in images_id:\n",
    "        images_selected += [images[image_id]]\n",
    "    \n",
    "    return images_selected"
   ]
  },
  {
   "cell_type": "code",
   "execution_count": 12,
   "metadata": {},
   "outputs": [],
   "source": [
    "X_train = images_from_id(X_train_id, images)\n",
    "x_val = images_from_id(x_val_id, images)"
   ]
  },
  {
   "cell_type": "code",
   "execution_count": 13,
   "metadata": {},
   "outputs": [
    {
     "name": "stdout",
     "output_type": "stream",
     "text": [
      "4000\n"
     ]
    },
    {
     "data": {
      "text/plain": [
       "(66, 66, 3)"
      ]
     },
     "execution_count": 13,
     "metadata": {},
     "output_type": "execute_result"
    }
   ],
   "source": [
    "print(len(X_train))\n",
    "X_train[0].shape"
   ]
  },
  {
   "cell_type": "code",
   "execution_count": 14,
   "metadata": {},
   "outputs": [],
   "source": [
    "X_train = np.array(X_train)"
   ]
  },
  {
   "cell_type": "code",
   "execution_count": 15,
   "metadata": {},
   "outputs": [],
   "source": [
    "x_val = np.array(x_val)"
   ]
  },
  {
   "cell_type": "markdown",
   "metadata": {},
   "source": [
    "# Création du modèle type CNN"
   ]
  },
  {
   "cell_type": "code",
   "execution_count": 74,
   "metadata": {},
   "outputs": [
    {
     "name": "stdout",
     "output_type": "stream",
     "text": [
      "Train on 4000 samples, validate on 1000 samples\n",
      "Epoch 1/100\n",
      "4000/4000 [==============================] - 5s 1ms/step - loss: 3.2992 - accuracy: 0.4647 - val_loss: 23.6408 - val_accuracy: 0.5890\n",
      "Epoch 2/100\n",
      "4000/4000 [==============================] - 5s 1ms/step - loss: 25.8628 - accuracy: 0.5505 - val_loss: 12.8300 - val_accuracy: 0.5890\n",
      "Epoch 3/100\n",
      "4000/4000 [==============================] - 5s 1ms/step - loss: 14.0178 - accuracy: 0.5505 - val_loss: 4.4857 - val_accuracy: 0.5890\n",
      "Epoch 4/100\n",
      "4000/4000 [==============================] - 6s 2ms/step - loss: 4.8639 - accuracy: 0.5505 - val_loss: 0.9969 - val_accuracy: 0.5310\n",
      "Epoch 5/100\n",
      "4000/4000 [==============================] - 6s 1ms/step - loss: 0.9956 - accuracy: 0.5290 - val_loss: 2.5248 - val_accuracy: 0.4150\n",
      "Epoch 6/100\n",
      "4000/4000 [==============================] - 6s 2ms/step - loss: 2.3785 - accuracy: 0.4507 - val_loss: 1.8028 - val_accuracy: 0.4100\n",
      "Epoch 7/100\n",
      "4000/4000 [==============================] - 7s 2ms/step - loss: 1.6841 - accuracy: 0.4510 - val_loss: 0.8540 - val_accuracy: 0.4980\n",
      "Epoch 8/100\n",
      "4000/4000 [==============================] - 6s 2ms/step - loss: 0.8234 - accuracy: 0.5228 - val_loss: 0.7770 - val_accuracy: 0.6020\n",
      "Epoch 9/100\n",
      "4000/4000 [==============================] - 6s 2ms/step - loss: 0.7957 - accuracy: 0.5782 - val_loss: 0.7548 - val_accuracy: 0.5850\n",
      "Epoch 10/100\n",
      "4000/4000 [==============================] - 6s 1ms/step - loss: 0.7718 - accuracy: 0.5710 - val_loss: 0.7360 - val_accuracy: 0.5430\n",
      "Epoch 11/100\n",
      "4000/4000 [==============================] - 5s 1ms/step - loss: 0.7424 - accuracy: 0.5567 - val_loss: 0.7706 - val_accuracy: 0.5060\n",
      "Epoch 12/100\n",
      "4000/4000 [==============================] - 5s 1ms/step - loss: 0.7614 - accuracy: 0.5365 - val_loss: 0.7928 - val_accuracy: 0.4990\n",
      "Epoch 13/100\n",
      "4000/4000 [==============================] - 5s 1ms/step - loss: 0.7843 - accuracy: 0.5325 - val_loss: 0.7998 - val_accuracy: 0.5140\n",
      "Epoch 14/100\n",
      "4000/4000 [==============================] - 5s 1ms/step - loss: 0.7950 - accuracy: 0.5385 - val_loss: 0.7961 - val_accuracy: 0.5390\n",
      "Epoch 15/100\n",
      "4000/4000 [==============================] - 5s 1ms/step - loss: 0.7933 - accuracy: 0.5545 - val_loss: 0.7843 - val_accuracy: 0.5650\n",
      "Epoch 16/100\n",
      "4000/4000 [==============================] - 5s 1ms/step - loss: 0.7829 - accuracy: 0.5732 - val_loss: 0.7642 - val_accuracy: 0.5750\n",
      "Epoch 17/100\n",
      "4000/4000 [==============================] - 5s 1ms/step - loss: 0.7642 - accuracy: 0.5957 - val_loss: 0.7368 - val_accuracy: 0.6000\n",
      "Epoch 18/100\n",
      "4000/4000 [==============================] - 5s 1ms/step - loss: 0.7388 - accuracy: 0.6030 - val_loss: 0.7023 - val_accuracy: 0.6200\n",
      "Epoch 19/100\n",
      "4000/4000 [==============================] - 5s 1ms/step - loss: 0.7061 - accuracy: 0.6122 - val_loss: 0.6634 - val_accuracy: 0.6350\n",
      "Epoch 20/100\n",
      "4000/4000 [==============================] - 5s 1ms/step - loss: 0.6671 - accuracy: 0.6313 - val_loss: 0.6512 - val_accuracy: 0.6340\n",
      "Epoch 21/100\n",
      "4000/4000 [==============================] - 5s 1ms/step - loss: 0.6508 - accuracy: 0.6245 - val_loss: 0.6561 - val_accuracy: 0.6130\n",
      "Epoch 22/100\n",
      "4000/4000 [==============================] - 5s 1ms/step - loss: 0.6499 - accuracy: 0.6223 - val_loss: 0.6291 - val_accuracy: 0.6710\n",
      "Epoch 23/100\n",
      "4000/4000 [==============================] - 5s 1ms/step - loss: 0.6346 - accuracy: 0.6405 - val_loss: 0.6166 - val_accuracy: 0.6750\n",
      "Epoch 24/100\n",
      "4000/4000 [==============================] - 5s 1ms/step - loss: 0.6198 - accuracy: 0.6582 - val_loss: 0.6182 - val_accuracy: 0.6520\n",
      "Epoch 25/100\n",
      "4000/4000 [==============================] - 5s 1ms/step - loss: 0.6096 - accuracy: 0.6702 - val_loss: 0.5978 - val_accuracy: 0.6720\n",
      "Epoch 26/100\n",
      "4000/4000 [==============================] - 5s 1ms/step - loss: 0.5937 - accuracy: 0.6925 - val_loss: 0.5940 - val_accuracy: 0.6860\n",
      "Epoch 27/100\n",
      "4000/4000 [==============================] - 5s 1ms/step - loss: 0.5822 - accuracy: 0.7010 - val_loss: 0.5969 - val_accuracy: 0.6870\n",
      "Epoch 28/100\n",
      "4000/4000 [==============================] - 5s 1ms/step - loss: 0.5774 - accuracy: 0.7078 - val_loss: 0.5819 - val_accuracy: 0.6900\n",
      "Epoch 29/100\n",
      "4000/4000 [==============================] - 5s 1ms/step - loss: 0.5674 - accuracy: 0.7205 - val_loss: 0.5758 - val_accuracy: 0.6940\n",
      "Epoch 30/100\n",
      "4000/4000 [==============================] - 5s 1ms/step - loss: 0.5572 - accuracy: 0.7305 - val_loss: 0.5777 - val_accuracy: 0.7070\n",
      "Epoch 31/100\n",
      "4000/4000 [==============================] - 5s 1ms/step - loss: 0.5502 - accuracy: 0.7295 - val_loss: 0.5649 - val_accuracy: 0.7070\n",
      "Epoch 32/100\n",
      "4000/4000 [==============================] - 5s 1ms/step - loss: 0.5400 - accuracy: 0.7408 - val_loss: 0.5590 - val_accuracy: 0.7140\n",
      "Epoch 33/100\n",
      "4000/4000 [==============================] - 5s 1ms/step - loss: 0.5356 - accuracy: 0.7427 - val_loss: 0.5615 - val_accuracy: 0.7210\n",
      "Epoch 34/100\n",
      "4000/4000 [==============================] - 5s 1ms/step - loss: 0.5299 - accuracy: 0.7505 - val_loss: 0.5526 - val_accuracy: 0.7310\n",
      "Epoch 35/100\n",
      "4000/4000 [==============================] - 5s 1ms/step - loss: 0.5235 - accuracy: 0.7535 - val_loss: 0.5423 - val_accuracy: 0.7370\n",
      "Epoch 36/100\n",
      "4000/4000 [==============================] - 5s 1ms/step - loss: 0.5200 - accuracy: 0.7575 - val_loss: 0.5437 - val_accuracy: 0.7410\n",
      "Epoch 37/100\n",
      "4000/4000 [==============================] - 5s 1ms/step - loss: 0.5148 - accuracy: 0.7585 - val_loss: 0.5358 - val_accuracy: 0.7470\n",
      "Epoch 38/100\n",
      "4000/4000 [==============================] - 5s 1ms/step - loss: 0.5101 - accuracy: 0.7657 - val_loss: 0.5299 - val_accuracy: 0.7520\n",
      "Epoch 39/100\n",
      "4000/4000 [==============================] - 5s 1ms/step - loss: 0.5081 - accuracy: 0.7697 - val_loss: 0.5373 - val_accuracy: 0.7480\n",
      "Epoch 40/100\n",
      "4000/4000 [==============================] - 5s 1ms/step - loss: 0.5066 - accuracy: 0.7653 - val_loss: 0.5247 - val_accuracy: 0.7560\n",
      "Epoch 41/100\n",
      "4000/4000 [==============================] - 5s 1ms/step - loss: 0.5035 - accuracy: 0.7738 - val_loss: 0.5306 - val_accuracy: 0.7540\n",
      "Epoch 42/100\n",
      "4000/4000 [==============================] - 5s 1ms/step - loss: 0.4991 - accuracy: 0.7713 - val_loss: 0.5182 - val_accuracy: 0.7660\n",
      "Epoch 43/100\n",
      "4000/4000 [==============================] - 5s 1ms/step - loss: 0.4938 - accuracy: 0.7775 - val_loss: 0.5191 - val_accuracy: 0.7650\n",
      "Epoch 44/100\n",
      "4000/4000 [==============================] - 5s 1ms/step - loss: 0.4891 - accuracy: 0.7790 - val_loss: 0.5151 - val_accuracy: 0.7660\n",
      "Epoch 45/100\n",
      "4000/4000 [==============================] - 5s 1ms/step - loss: 0.4854 - accuracy: 0.7828 - val_loss: 0.5123 - val_accuracy: 0.7730\n",
      "Epoch 46/100\n",
      "4000/4000 [==============================] - 6s 2ms/step - loss: 0.4825 - accuracy: 0.7862 - val_loss: 0.5166 - val_accuracy: 0.7680\n",
      "Epoch 47/100\n",
      "4000/4000 [==============================] - 6s 2ms/step - loss: 0.4802 - accuracy: 0.7837 - val_loss: 0.5098 - val_accuracy: 0.7650\n",
      "Epoch 48/100\n",
      "4000/4000 [==============================] - 6s 2ms/step - loss: 0.4798 - accuracy: 0.7883 - val_loss: 0.5286 - val_accuracy: 0.7520\n",
      "Epoch 49/100\n",
      "4000/4000 [==============================] - 6s 2ms/step - loss: 0.4834 - accuracy: 0.7805 - val_loss: 0.5164 - val_accuracy: 0.7710\n",
      "Epoch 50/100\n",
      "4000/4000 [==============================] - 6s 2ms/step - loss: 0.4900 - accuracy: 0.7812 - val_loss: 0.5418 - val_accuracy: 0.7430\n",
      "Epoch 51/100\n",
      "4000/4000 [==============================] - 6s 2ms/step - loss: 0.4912 - accuracy: 0.7720 - val_loss: 0.5044 - val_accuracy: 0.7730\n",
      "Epoch 52/100\n",
      "4000/4000 [==============================] - 5s 1ms/step - loss: 0.4705 - accuracy: 0.7922 - val_loss: 0.5036 - val_accuracy: 0.7710\n",
      "Epoch 53/100\n",
      "4000/4000 [==============================] - 5s 1ms/step - loss: 0.4687 - accuracy: 0.7910 - val_loss: 0.5288 - val_accuracy: 0.7500\n",
      "Epoch 54/100\n",
      "4000/4000 [==============================] - 5s 1ms/step - loss: 0.4777 - accuracy: 0.7828 - val_loss: 0.5021 - val_accuracy: 0.7660\n",
      "Epoch 55/100\n",
      "4000/4000 [==============================] - 5s 1ms/step - loss: 0.4638 - accuracy: 0.7952 - val_loss: 0.5018 - val_accuracy: 0.7700\n",
      "Epoch 56/100\n",
      "4000/4000 [==============================] - 5s 1ms/step - loss: 0.4623 - accuracy: 0.7955 - val_loss: 0.5210 - val_accuracy: 0.7570\n"
     ]
    },
    {
     "name": "stdout",
     "output_type": "stream",
     "text": [
      "Epoch 57/100\n",
      "4000/4000 [==============================] - 5s 1ms/step - loss: 0.4681 - accuracy: 0.7875 - val_loss: 0.5011 - val_accuracy: 0.7740\n",
      "Epoch 58/100\n",
      "4000/4000 [==============================] - 5s 1ms/step - loss: 0.4565 - accuracy: 0.8010 - val_loss: 0.5027 - val_accuracy: 0.7730\n",
      "Epoch 59/100\n",
      "4000/4000 [==============================] - 5s 1ms/step - loss: 0.4588 - accuracy: 0.7987 - val_loss: 0.5160 - val_accuracy: 0.7650\n",
      "Epoch 60/100\n",
      "4000/4000 [==============================] - 5s 1ms/step - loss: 0.4592 - accuracy: 0.7962 - val_loss: 0.5031 - val_accuracy: 0.7710\n",
      "Epoch 61/100\n",
      "4000/4000 [==============================] - 5s 1ms/step - loss: 0.4501 - accuracy: 0.8065 - val_loss: 0.5043 - val_accuracy: 0.7720\n",
      "Epoch 62/100\n",
      "4000/4000 [==============================] - 5s 1ms/step - loss: 0.4546 - accuracy: 0.8010 - val_loss: 0.5132 - val_accuracy: 0.7660\n",
      "Epoch 63/100\n",
      "4000/4000 [==============================] - 5s 1ms/step - loss: 0.4518 - accuracy: 0.7993 - val_loss: 0.5044 - val_accuracy: 0.7740\n",
      "Epoch 64/100\n",
      "4000/4000 [==============================] - 5s 1ms/step - loss: 0.4452 - accuracy: 0.8060 - val_loss: 0.5043 - val_accuracy: 0.7750\n",
      "Epoch 65/100\n",
      "4000/4000 [==============================] - 5s 1ms/step - loss: 0.4491 - accuracy: 0.8045 - val_loss: 0.5096 - val_accuracy: 0.7650\n",
      "Epoch 66/100\n",
      "4000/4000 [==============================] - 5s 1ms/step - loss: 0.4447 - accuracy: 0.8033 - val_loss: 0.5043 - val_accuracy: 0.7750\n",
      "Epoch 67/100\n",
      "4000/4000 [==============================] - 5s 1ms/step - loss: 0.4404 - accuracy: 0.8067 - val_loss: 0.5025 - val_accuracy: 0.7700\n",
      "Epoch 68/100\n",
      "4000/4000 [==============================] - 5s 1ms/step - loss: 0.4433 - accuracy: 0.8048 - val_loss: 0.5080 - val_accuracy: 0.7640\n",
      "Epoch 69/100\n",
      "4000/4000 [==============================] - 5s 1ms/step - loss: 0.4393 - accuracy: 0.8060 - val_loss: 0.5029 - val_accuracy: 0.7670\n",
      "Epoch 70/100\n",
      "4000/4000 [==============================] - 5s 1ms/step - loss: 0.4351 - accuracy: 0.8110 - val_loss: 0.5020 - val_accuracy: 0.7740\n",
      "Epoch 71/100\n",
      "4000/4000 [==============================] - 5s 1ms/step - loss: 0.4369 - accuracy: 0.8105 - val_loss: 0.5085 - val_accuracy: 0.7560\n",
      "Epoch 72/100\n",
      "4000/4000 [==============================] - 5s 1ms/step - loss: 0.4344 - accuracy: 0.8123 - val_loss: 0.5027 - val_accuracy: 0.7660\n",
      "Epoch 73/100\n",
      "4000/4000 [==============================] - 6s 1ms/step - loss: 0.4301 - accuracy: 0.8133 - val_loss: 0.5024 - val_accuracy: 0.7680\n",
      "Epoch 74/100\n",
      "4000/4000 [==============================] - 5s 1ms/step - loss: 0.4308 - accuracy: 0.8135 - val_loss: 0.5097 - val_accuracy: 0.7570\n",
      "Epoch 75/100\n",
      "4000/4000 [==============================] - 5s 1ms/step - loss: 0.4297 - accuracy: 0.8120 - val_loss: 0.5025 - val_accuracy: 0.7700\n",
      "Epoch 76/100\n",
      "4000/4000 [==============================] - 5s 1ms/step - loss: 0.4255 - accuracy: 0.8163 - val_loss: 0.5025 - val_accuracy: 0.7700\n",
      "Epoch 77/100\n",
      "4000/4000 [==============================] - 5s 1ms/step - loss: 0.4240 - accuracy: 0.8173 - val_loss: 0.5093 - val_accuracy: 0.7580\n",
      "Epoch 78/100\n",
      "4000/4000 [==============================] - 5s 1ms/step - loss: 0.4244 - accuracy: 0.8152 - val_loss: 0.5027 - val_accuracy: 0.7710\n",
      "Epoch 79/100\n",
      "4000/4000 [==============================] - 5s 1ms/step - loss: 0.4223 - accuracy: 0.8180 - val_loss: 0.5052 - val_accuracy: 0.7600\n",
      "Epoch 80/100\n",
      "4000/4000 [==============================] - 5s 1ms/step - loss: 0.4189 - accuracy: 0.8175 - val_loss: 0.5047 - val_accuracy: 0.7620\n",
      "Epoch 81/100\n",
      "4000/4000 [==============================] - 5s 1ms/step - loss: 0.4170 - accuracy: 0.8195 - val_loss: 0.5032 - val_accuracy: 0.7710\n",
      "Epoch 82/100\n",
      "4000/4000 [==============================] - 5s 1ms/step - loss: 0.4167 - accuracy: 0.8198 - val_loss: 0.5107 - val_accuracy: 0.7530\n",
      "Epoch 83/100\n",
      "4000/4000 [==============================] - 5s 1ms/step - loss: 0.4162 - accuracy: 0.8163 - val_loss: 0.5046 - val_accuracy: 0.7710\n",
      "Epoch 84/100\n",
      "4000/4000 [==============================] - 5s 1ms/step - loss: 0.4147 - accuracy: 0.8198 - val_loss: 0.5110 - val_accuracy: 0.7540\n",
      "Epoch 85/100\n",
      "4000/4000 [==============================] - 5s 1ms/step - loss: 0.4125 - accuracy: 0.8173 - val_loss: 0.5049 - val_accuracy: 0.7750\n",
      "Epoch 86/100\n",
      "4000/4000 [==============================] - 5s 1ms/step - loss: 0.4101 - accuracy: 0.8235 - val_loss: 0.5086 - val_accuracy: 0.7560\n",
      "Epoch 87/100\n",
      "4000/4000 [==============================] - 5s 1ms/step - loss: 0.4078 - accuracy: 0.8220 - val_loss: 0.5061 - val_accuracy: 0.7710\n",
      "Epoch 88/100\n",
      "4000/4000 [==============================] - 6s 1ms/step - loss: 0.4058 - accuracy: 0.8227 - val_loss: 0.5077 - val_accuracy: 0.7630\n",
      "Epoch 89/100\n",
      "4000/4000 [==============================] - 6s 2ms/step - loss: 0.4041 - accuracy: 0.8245 - val_loss: 0.5078 - val_accuracy: 0.7640\n",
      "Epoch 90/100\n",
      "4000/4000 [==============================] - 6s 2ms/step - loss: 0.4025 - accuracy: 0.8242 - val_loss: 0.5077 - val_accuracy: 0.7660\n",
      "Epoch 91/100\n",
      "4000/4000 [==============================] - 6s 2ms/step - loss: 0.4010 - accuracy: 0.8270 - val_loss: 0.5100 - val_accuracy: 0.7610\n",
      "Epoch 92/100\n",
      "4000/4000 [==============================] - 6s 2ms/step - loss: 0.3997 - accuracy: 0.8267 - val_loss: 0.5077 - val_accuracy: 0.7730\n",
      "Epoch 93/100\n",
      "4000/4000 [==============================] - 6s 2ms/step - loss: 0.3990 - accuracy: 0.8278 - val_loss: 0.5184 - val_accuracy: 0.7560\n",
      "Epoch 94/100\n",
      "4000/4000 [==============================] - 6s 2ms/step - loss: 0.4009 - accuracy: 0.8282 - val_loss: 0.5178 - val_accuracy: 0.7720\n",
      "Epoch 95/100\n",
      "4000/4000 [==============================] - 5s 1ms/step - loss: 0.4120 - accuracy: 0.8133 - val_loss: 0.5833 - val_accuracy: 0.7240\n",
      "Epoch 96/100\n",
      "4000/4000 [==============================] - 5s 1ms/step - loss: 0.4497 - accuracy: 0.7962 - val_loss: 0.5785 - val_accuracy: 0.7160\n",
      "Epoch 97/100\n",
      "4000/4000 [==============================] - 5s 1ms/step - loss: 0.4815 - accuracy: 0.7695 - val_loss: 0.5464 - val_accuracy: 0.7390\n",
      "Epoch 98/100\n",
      "4000/4000 [==============================] - 5s 1ms/step - loss: 0.4180 - accuracy: 0.8135 - val_loss: 0.5308 - val_accuracy: 0.7540\n",
      "Epoch 99/100\n",
      "4000/4000 [==============================] - 5s 1ms/step - loss: 0.4055 - accuracy: 0.8213 - val_loss: 0.5430 - val_accuracy: 0.7440\n",
      "Epoch 100/100\n",
      "4000/4000 [==============================] - 5s 1ms/step - loss: 0.4375 - accuracy: 0.8012 - val_loss: 0.5109 - val_accuracy: 0.7670\n"
     ]
    }
   ],
   "source": [
    "model2 = Sequential()\n",
    "model2.add(Conv2D(10, kernel_size=(3, 3), activation='relu', input_shape=(66,66,3)))\n",
    "model2.add(MaxPooling2D(2, 2))\n",
    "model2.add(Conv2D(15, kernel_size=(3, 3), activation='relu'))\n",
    "model2.add(MaxPooling2D(2, 2))\n",
    "model2.add(Conv2D(20, kernel_size=(3, 3), activation='relu'))\n",
    "model2.add(Flatten())\n",
    "model2.add(Dense(3, activation='softmax'))\n",
    "\n",
    "loss = 'categorical_crossentropy'\n",
    "LEARNING_RATE = 0.003\n",
    "EPOCHS = 100\n",
    "\n",
    "model2.compile(loss=loss,\n",
    "               optimizer=Adam(lr=LEARNING_RATE), # SGD(lr=LEARNING_RATE)\n",
    "               metrics=['accuracy'])\n",
    "\n",
    "history = model2.fit(X_train,\n",
    "                     Y_train,\n",
    "                     epochs=EPOCHS,\n",
    "                     validation_data=(x_val, y_val),\n",
    "                     batch_size=X_train.shape[0])"
   ]
  },
  {
   "cell_type": "code",
   "execution_count": 75,
   "metadata": {},
   "outputs": [
    {
     "name": "stdout",
     "output_type": "stream",
     "text": [
      "76.7 %\n"
     ]
    }
   ],
   "source": [
    "score = round(model2.evaluate(x_val, y_val, verbose=0)[1]*100,1)\n",
    "print(score, \"%\")"
   ]
  },
  {
   "cell_type": "code",
   "execution_count": 76,
   "metadata": {},
   "outputs": [
    {
     "name": "stdout",
     "output_type": "stream",
     "text": [
      "Model: \"sequential_11\"\n",
      "_________________________________________________________________\n",
      "Layer (type)                 Output Shape              Param #   \n",
      "=================================================================\n",
      "conv2d_31 (Conv2D)           (None, 64, 64, 10)        280       \n",
      "_________________________________________________________________\n",
      "max_pooling2d_21 (MaxPooling (None, 32, 32, 10)        0         \n",
      "_________________________________________________________________\n",
      "conv2d_32 (Conv2D)           (None, 30, 30, 15)        1365      \n",
      "_________________________________________________________________\n",
      "max_pooling2d_22 (MaxPooling (None, 15, 15, 15)        0         \n",
      "_________________________________________________________________\n",
      "conv2d_33 (Conv2D)           (None, 13, 13, 20)        2720      \n",
      "_________________________________________________________________\n",
      "flatten_11 (Flatten)         (None, 3380)              0         \n",
      "_________________________________________________________________\n",
      "dense_11 (Dense)             (None, 3)                 10143     \n",
      "=================================================================\n",
      "Total params: 14,508\n",
      "Trainable params: 14,508\n",
      "Non-trainable params: 0\n",
      "_________________________________________________________________\n"
     ]
    }
   ],
   "source": [
    "model2.summary()"
   ]
  },
  {
   "cell_type": "code",
   "execution_count": 77,
   "metadata": {},
   "outputs": [
    {
     "data": {
      "image/png": "[encoded data removed]",
      "text/plain": [
       "<Figure size 432x288 with 2 Axes>"
      ]
     },
     "metadata": {
      "needs_background": "light"
     },
     "output_type": "display_data"
    }
   ],
   "source": [
    "import pandas as pd\n",
    "%matplotlib inline\n",
    "\n",
    "fig, ax1 = plt.subplots()\n",
    "\n",
    "plt.plot(history.history['loss'][4:], label='loss')\n",
    "plt.plot(history.history['val_loss'][4:], c = 'black', label='val_loss')\n",
    "plt.legend()\n",
    "\n",
    "ax2 = ax1.twinx()\n",
    "plt.plot(history.history['accuracy'][4:], c = 'orange', label='accuracy')\n",
    "plt.plot(history.history['val_accuracy'][4:], c = 'red', label='val_accuracy')\n",
    "plt.ylim(bottom=0, top=1)\n",
    "plt.legend()\n",
    "\n",
    "plt.grid(True)\n",
    "plt.title('Model performance throughout training')\n",
    "plt.xlabel('epoch');"
   ]
  },
  {
   "cell_type": "code",
   "execution_count": 78,
   "metadata": {},
   "outputs": [],
   "source": [
    "y_predict = model2.predict(x_val)"
   ]
  },
  {
   "cell_type": "code",
   "execution_count": 80,
   "metadata": {},
   "outputs": [
    {
     "data": {
      "text/html": [
       "<div>\n",
       "<style scoped>\n",
       "    .dataframe tbody tr th:only-of-type {\n",
       "        vertical-align: middle;\n",
       "    }\n",
       "\n",
       "    .dataframe tbody tr th {\n",
       "        vertical-align: top;\n",
       "    }\n",
       "\n",
       "    .dataframe thead th {\n",
       "        text-align: right;\n",
       "    }\n",
       "</style>\n",
       "<table border=\"1\" class=\"dataframe\">\n",
       "  <thead>\n",
       "    <tr style=\"text-align: right;\">\n",
       "      <th></th>\n",
       "      <th>0</th>\n",
       "      <th>1</th>\n",
       "      <th>2</th>\n",
       "    </tr>\n",
       "  </thead>\n",
       "  <tbody>\n",
       "    <tr>\n",
       "      <th>0</th>\n",
       "      <td>0.029647</td>\n",
       "      <td>0.970353</td>\n",
       "      <td>4.551151e-10</td>\n",
       "    </tr>\n",
       "    <tr>\n",
       "      <th>1</th>\n",
       "      <td>0.971898</td>\n",
       "      <td>0.028102</td>\n",
       "      <td>9.618358e-09</td>\n",
       "    </tr>\n",
       "    <tr>\n",
       "      <th>2</th>\n",
       "      <td>0.499006</td>\n",
       "      <td>0.500994</td>\n",
       "      <td>4.944083e-09</td>\n",
       "    </tr>\n",
       "    <tr>\n",
       "      <th>3</th>\n",
       "      <td>0.937416</td>\n",
       "      <td>0.062584</td>\n",
       "      <td>8.212804e-15</td>\n",
       "    </tr>\n",
       "    <tr>\n",
       "      <th>4</th>\n",
       "      <td>0.764540</td>\n",
       "      <td>0.235460</td>\n",
       "      <td>4.662546e-10</td>\n",
       "    </tr>\n",
       "  </tbody>\n",
       "</table>\n",
       "</div>"
      ],
      "text/plain": [
       "          0         1             2\n",
       "0  0.029647  0.970353  4.551151e-10\n",
       "1  0.971898  0.028102  9.618358e-09\n",
       "2  0.499006  0.500994  4.944083e-09\n",
       "3  0.937416  0.062584  8.212804e-15\n",
       "4  0.764540  0.235460  4.662546e-10"
      ]
     },
     "execution_count": 80,
     "metadata": {},
     "output_type": "execute_result"
    }
   ],
   "source": [
    "y_predict = pd.DataFrame(y_predict)\n",
    "y_predict.columns = ['0','1','2']\n",
    "y_predict.head()"
   ]
  },
  {
   "cell_type": "code",
   "execution_count": 81,
   "metadata": {},
   "outputs": [
    {
     "data": {
      "text/html": [
       "<div>\n",
       "<style scoped>\n",
       "    .dataframe tbody tr th:only-of-type {\n",
       "        vertical-align: middle;\n",
       "    }\n",
       "\n",
       "    .dataframe tbody tr th {\n",
       "        vertical-align: top;\n",
       "    }\n",
       "\n",
       "    .dataframe thead th {\n",
       "        text-align: right;\n",
       "    }\n",
       "</style>\n",
       "<table border=\"1\" class=\"dataframe\">\n",
       "  <thead>\n",
       "    <tr style=\"text-align: right;\">\n",
       "      <th></th>\n",
       "      <th>0</th>\n",
       "      <th>1</th>\n",
       "      <th>2</th>\n",
       "    </tr>\n",
       "  </thead>\n",
       "  <tbody>\n",
       "    <tr>\n",
       "      <th>0</th>\n",
       "      <td>0.0</td>\n",
       "      <td>1.0</td>\n",
       "      <td>0.0</td>\n",
       "    </tr>\n",
       "    <tr>\n",
       "      <th>1</th>\n",
       "      <td>1.0</td>\n",
       "      <td>0.0</td>\n",
       "      <td>0.0</td>\n",
       "    </tr>\n",
       "    <tr>\n",
       "      <th>2</th>\n",
       "      <td>0.0</td>\n",
       "      <td>1.0</td>\n",
       "      <td>0.0</td>\n",
       "    </tr>\n",
       "    <tr>\n",
       "      <th>3</th>\n",
       "      <td>1.0</td>\n",
       "      <td>0.0</td>\n",
       "      <td>0.0</td>\n",
       "    </tr>\n",
       "    <tr>\n",
       "      <th>4</th>\n",
       "      <td>1.0</td>\n",
       "      <td>0.0</td>\n",
       "      <td>0.0</td>\n",
       "    </tr>\n",
       "  </tbody>\n",
       "</table>\n",
       "</div>"
      ],
      "text/plain": [
       "     0    1    2\n",
       "0  0.0  1.0  0.0\n",
       "1  1.0  0.0  0.0\n",
       "2  0.0  1.0  0.0\n",
       "3  1.0  0.0  0.0\n",
       "4  1.0  0.0  0.0"
      ]
     },
     "execution_count": 81,
     "metadata": {},
     "output_type": "execute_result"
    }
   ],
   "source": [
    "for i in range(0, 3):\n",
    "    y_predict.loc[y_predict[str(i)] == y_predict.agg(func=max, axis=1), str(i)] = 1\n",
    "    y_predict.loc[y_predict[str(i)] < 1, str(i)] = 0\n",
    "\n",
    "y_predict.head()"
   ]
  },
  {
   "cell_type": "code",
   "execution_count": 99,
   "metadata": {},
   "outputs": [
    {
     "data": {
      "text/html": [
       "<div>\n",
       "<style scoped>\n",
       "    .dataframe tbody tr th:only-of-type {\n",
       "        vertical-align: middle;\n",
       "    }\n",
       "\n",
       "    .dataframe tbody tr th {\n",
       "        vertical-align: top;\n",
       "    }\n",
       "\n",
       "    .dataframe thead th {\n",
       "        text-align: right;\n",
       "    }\n",
       "</style>\n",
       "<table border=\"1\" class=\"dataframe\">\n",
       "  <thead>\n",
       "    <tr style=\"text-align: right;\">\n",
       "      <th></th>\n",
       "      <th>0</th>\n",
       "      <th>1</th>\n",
       "      <th>2</th>\n",
       "    </tr>\n",
       "    <tr>\n",
       "      <th>GalaxyID</th>\n",
       "      <th></th>\n",
       "      <th></th>\n",
       "      <th></th>\n",
       "    </tr>\n",
       "  </thead>\n",
       "  <tbody>\n",
       "    <tr>\n",
       "      <th>147619</th>\n",
       "      <td>0</td>\n",
       "      <td>1</td>\n",
       "      <td>0</td>\n",
       "    </tr>\n",
       "    <tr>\n",
       "      <th>116386</th>\n",
       "      <td>1</td>\n",
       "      <td>0</td>\n",
       "      <td>0</td>\n",
       "    </tr>\n",
       "    <tr>\n",
       "      <th>156246</th>\n",
       "      <td>0</td>\n",
       "      <td>1</td>\n",
       "      <td>0</td>\n",
       "    </tr>\n",
       "    <tr>\n",
       "      <th>175205</th>\n",
       "      <td>1</td>\n",
       "      <td>0</td>\n",
       "      <td>0</td>\n",
       "    </tr>\n",
       "    <tr>\n",
       "      <th>169850</th>\n",
       "      <td>1</td>\n",
       "      <td>0</td>\n",
       "      <td>0</td>\n",
       "    </tr>\n",
       "  </tbody>\n",
       "</table>\n",
       "</div>"
      ],
      "text/plain": [
       "          0  1  2\n",
       "GalaxyID         \n",
       "147619    0  1  0\n",
       "116386    1  0  0\n",
       "156246    0  1  0\n",
       "175205    1  0  0\n",
       "169850    1  0  0"
      ]
     },
     "execution_count": 99,
     "metadata": {},
     "output_type": "execute_result"
    }
   ],
   "source": [
    "y_val_mod = pd.DataFrame(y_val)\n",
    "y_val_mod.columns = ['0','1','2']\n",
    "y_val_mod.head()"
   ]
  },
  {
   "cell_type": "code",
   "execution_count": 100,
   "metadata": {},
   "outputs": [
    {
     "data": {
      "text/plain": [
       "0    411\n",
       "1    589\n",
       "2      0\n",
       "dtype: int64"
      ]
     },
     "execution_count": 100,
     "metadata": {},
     "output_type": "execute_result"
    }
   ],
   "source": [
    "y_val_mod.sum()"
   ]
  },
  {
   "cell_type": "code",
   "execution_count": 84,
   "metadata": {},
   "outputs": [],
   "source": [
    "y_val_mod = np.array(y_val_mod)\n",
    "y_predict = np.array(y_predict)"
   ]
  },
  {
   "cell_type": "code",
   "execution_count": 85,
   "metadata": {},
   "outputs": [],
   "source": [
    "def Y_transform(Y_train):\n",
    "    Y_output = []\n",
    "    for line in range(len(Y_train)):\n",
    "        for col in range(3):\n",
    "            value = str(int(Y_train[line][col]))\n",
    "            if value == '1':\n",
    "                Y_output += [str(col)]\n",
    "\n",
    "    return Y_output"
   ]
  },
  {
   "cell_type": "code",
   "execution_count": 86,
   "metadata": {},
   "outputs": [],
   "source": [
    "y_val_mod = Y_transform(y_val_mod)\n",
    "y_predict = Y_transform(y_predict)"
   ]
  },
  {
   "cell_type": "code",
   "execution_count": 87,
   "metadata": {},
   "outputs": [
    {
     "data": {
      "text/plain": [
       "['1', '0', '1', '0', '0', '0', '1', '0', '0', '1']"
      ]
     },
     "execution_count": 87,
     "metadata": {},
     "output_type": "execute_result"
    }
   ],
   "source": [
    "y_val_mod[:10]"
   ]
  },
  {
   "cell_type": "code",
   "execution_count": 88,
   "metadata": {},
   "outputs": [
    {
     "data": {
      "text/plain": [
       "['1', '0', '1', '0', '0', '1', '1', '0', '0', '1']"
      ]
     },
     "execution_count": 88,
     "metadata": {},
     "output_type": "execute_result"
    }
   ],
   "source": [
    "y_predict[:10]"
   ]
  },
  {
   "cell_type": "code",
   "execution_count": 89,
   "metadata": {},
   "outputs": [
    {
     "name": "stdout",
     "output_type": "stream",
     "text": [
      "[[301 123]\n",
      " [110 466]]\n"
     ]
    },
    {
     "data": {
      "image/png": "[encoded data removed]",
      "text/plain": [
       "<Figure size 432x288 with 1 Axes>"
      ]
     },
     "metadata": {
      "needs_background": "light"
     },
     "output_type": "display_data"
    }
   ],
   "source": [
    "conf_matrix = metrics.confusion_matrix(y_predict, y_val_mod)\n",
    "print(conf_matrix)\n",
    "plt.imshow(conf_matrix, cmap='binary');"
   ]
  },
  {
   "cell_type": "markdown",
   "metadata": {},
   "source": [
    "# Sylvia model"
   ]
  },
  {
   "cell_type": "code",
   "execution_count": 115,
   "metadata": {},
   "outputs": [
    {
     "name": "stdout",
     "output_type": "stream",
     "text": [
      "Train on 4000 samples, validate on 1000 samples\n",
      "Epoch 1/100\n",
      "4000/4000 [==============================] - 4s 1ms/step - loss: 82.6352 - accuracy: 0.3128 - val_loss: 17.6288 - val_accuracy: 0.5890\n",
      "Epoch 2/100\n",
      "4000/4000 [==============================] - 4s 909us/step - loss: 120.6320 - accuracy: 0.5505 - val_loss: 1.0369 - val_accuracy: 0.6480\n",
      "Epoch 3/100\n",
      "4000/4000 [==============================] - 4s 906us/step - loss: 19.7363 - accuracy: 0.5523 - val_loss: 8.3642 - val_accuracy: 0.5920\n",
      "Epoch 4/100\n",
      "4000/4000 [==============================] - 4s 906us/step - loss: 4.8998 - accuracy: 0.5625 - val_loss: 8.8104 - val_accuracy: 0.5930\n",
      "Epoch 5/100\n",
      "4000/4000 [==============================] - 4s 905us/step - loss: 3.0762 - accuracy: 0.5405 - val_loss: 8.4351 - val_accuracy: 0.5920\n",
      "Epoch 6/100\n",
      "4000/4000 [==============================] - 4s 914us/step - loss: 4.2078 - accuracy: 0.4868 - val_loss: 8.9730 - val_accuracy: 0.5890\n",
      "Epoch 7/100\n",
      "4000/4000 [==============================] - 4s 902us/step - loss: 2.9489 - accuracy: 0.5372 - val_loss: 8.8957 - val_accuracy: 0.5890\n",
      "Epoch 8/100\n",
      "4000/4000 [==============================] - 4s 914us/step - loss: 4.1979 - accuracy: 0.5598 - val_loss: 7.4224 - val_accuracy: 0.5890\n",
      "Epoch 9/100\n",
      "4000/4000 [==============================] - 4s 897us/step - loss: 2.6508 - accuracy: 0.5612 - val_loss: 5.1729 - val_accuracy: 0.5890\n",
      "Epoch 10/100\n",
      "4000/4000 [==============================] - 4s 914us/step - loss: 2.5105 - accuracy: 0.5135 - val_loss: 3.6799 - val_accuracy: 0.5890\n",
      "Epoch 11/100\n",
      "4000/4000 [==============================] - 4s 924us/step - loss: 2.6248 - accuracy: 0.5045 - val_loss: 3.0886 - val_accuracy: 0.5890\n",
      "Epoch 12/100\n",
      "4000/4000 [==============================] - 4s 915us/step - loss: 2.1195 - accuracy: 0.5303 - val_loss: 2.8591 - val_accuracy: 0.5890\n",
      "Epoch 13/100\n",
      "4000/4000 [==============================] - 4s 940us/step - loss: 2.0493 - accuracy: 0.5357 - val_loss: 2.1043 - val_accuracy: 0.5890\n",
      "Epoch 14/100\n",
      "4000/4000 [==============================] - 4s 938us/step - loss: 2.2692 - accuracy: 0.5573 - val_loss: 1.3485 - val_accuracy: 0.4380\n",
      "Epoch 15/100\n",
      "4000/4000 [==============================] - 4s 941us/step - loss: 1.9736 - accuracy: 0.5585 - val_loss: 3.3126 - val_accuracy: 0.3480\n",
      "Epoch 16/100\n",
      "4000/4000 [==============================] - 4s 914us/step - loss: 1.9956 - accuracy: 0.5408 - val_loss: 4.0663 - val_accuracy: 0.3610\n",
      "Epoch 17/100\n",
      "4000/4000 [==============================] - 4s 905us/step - loss: 2.2627 - accuracy: 0.5238 - val_loss: 2.7684 - val_accuracy: 0.3310\n",
      "Epoch 18/100\n",
      "4000/4000 [==============================] - 4s 919us/step - loss: 1.8411 - accuracy: 0.5617 - val_loss: 2.1742 - val_accuracy: 0.4830\n",
      "Epoch 19/100\n",
      "4000/4000 [==============================] - 4s 945us/step - loss: 1.7456 - accuracy: 0.5692 - val_loss: 2.8612 - val_accuracy: 0.5900\n",
      "Epoch 20/100\n",
      "4000/4000 [==============================] - 4s 941us/step - loss: 1.7843 - accuracy: 0.5813 - val_loss: 3.0140 - val_accuracy: 0.5890\n",
      "Epoch 21/100\n",
      "4000/4000 [==============================] - 4s 935us/step - loss: 1.6477 - accuracy: 0.5910 - val_loss: 2.4127 - val_accuracy: 0.5880\n",
      "Epoch 22/100\n",
      "4000/4000 [==============================] - 4s 935us/step - loss: 1.6544 - accuracy: 0.5950 - val_loss: 2.2022 - val_accuracy: 0.5890\n",
      "Epoch 23/100\n",
      "4000/4000 [==============================] - 4s 967us/step - loss: 1.6505 - accuracy: 0.5860 - val_loss: 2.6714 - val_accuracy: 0.5890\n",
      "Epoch 24/100\n",
      "4000/4000 [==============================] - 4s 938us/step - loss: 1.5310 - accuracy: 0.5975 - val_loss: 3.0512 - val_accuracy: 0.5890\n",
      "Epoch 25/100\n",
      "4000/4000 [==============================] - 4s 927us/step - loss: 1.5233 - accuracy: 0.6005 - val_loss: 2.7905 - val_accuracy: 0.5890\n",
      "Epoch 26/100\n",
      "4000/4000 [==============================] - 4s 948us/step - loss: 1.4465 - accuracy: 0.6058 - val_loss: 2.2088 - val_accuracy: 0.5890\n",
      "Epoch 27/100\n",
      "4000/4000 [==============================] - 4s 950us/step - loss: 1.3608 - accuracy: 0.6033 - val_loss: 1.8865 - val_accuracy: 0.5910\n",
      "Epoch 28/100\n",
      "4000/4000 [==============================] - 4s 940us/step - loss: 1.3529 - accuracy: 0.5978 - val_loss: 2.0131 - val_accuracy: 0.5890\n",
      "Epoch 29/100\n",
      "4000/4000 [==============================] - 4s 935us/step - loss: 1.2903 - accuracy: 0.6050 - val_loss: 2.2268 - val_accuracy: 0.5880\n",
      "Epoch 30/100\n",
      "4000/4000 [==============================] - 4s 957us/step - loss: 1.2446 - accuracy: 0.6158 - val_loss: 2.2467 - val_accuracy: 0.5910\n",
      "Epoch 31/100\n",
      "4000/4000 [==============================] - 4s 931us/step - loss: 1.2692 - accuracy: 0.6083 - val_loss: 2.0754 - val_accuracy: 0.5860\n",
      "Epoch 32/100\n",
      "4000/4000 [==============================] - 4s 925us/step - loss: 1.1896 - accuracy: 0.6068 - val_loss: 1.9090 - val_accuracy: 0.5830\n",
      "Epoch 33/100\n",
      "4000/4000 [==============================] - 4s 930us/step - loss: 1.1421 - accuracy: 0.6180 - val_loss: 1.9367 - val_accuracy: 0.5810\n",
      "Epoch 34/100\n",
      "4000/4000 [==============================] - 4s 936us/step - loss: 1.0902 - accuracy: 0.6137 - val_loss: 2.1251 - val_accuracy: 0.5760\n",
      "Epoch 35/100\n",
      "4000/4000 [==============================] - 4s 931us/step - loss: 1.0597 - accuracy: 0.6227 - val_loss: 2.3012 - val_accuracy: 0.5650\n",
      "Epoch 36/100\n",
      "4000/4000 [==============================] - 4s 938us/step - loss: 1.0754 - accuracy: 0.6053 - val_loss: 2.3204 - val_accuracy: 0.5620\n",
      "Epoch 37/100\n",
      "4000/4000 [==============================] - 4s 921us/step - loss: 1.0837 - accuracy: 0.5955 - val_loss: 2.2732 - val_accuracy: 0.5610\n",
      "Epoch 38/100\n",
      "4000/4000 [==============================] - 4s 930us/step - loss: 1.0186 - accuracy: 0.6210 - val_loss: 2.2607 - val_accuracy: 0.5580\n",
      "Epoch 39/100\n",
      "4000/4000 [==============================] - 4s 923us/step - loss: 1.0155 - accuracy: 0.6022 - val_loss: 2.2793 - val_accuracy: 0.5540\n",
      "Epoch 40/100\n",
      "4000/4000 [==============================] - 4s 926us/step - loss: 1.0081 - accuracy: 0.5860 - val_loss: 2.3367 - val_accuracy: 0.5500\n",
      "Epoch 41/100\n",
      "4000/4000 [==============================] - 4s 927us/step - loss: 1.0304 - accuracy: 0.5905 - val_loss: 2.3324 - val_accuracy: 0.5430\n",
      "Epoch 42/100\n",
      "4000/4000 [==============================] - 4s 924us/step - loss: 0.9720 - accuracy: 0.6115 - val_loss: 2.2404 - val_accuracy: 0.5440\n",
      "Epoch 43/100\n",
      "4000/4000 [==============================] - 4s 956us/step - loss: 0.9954 - accuracy: 0.5997 - val_loss: 2.0677 - val_accuracy: 0.5480\n",
      "Epoch 44/100\n",
      "4000/4000 [==============================] - 4s 936us/step - loss: 0.9844 - accuracy: 0.6095 - val_loss: 1.9286 - val_accuracy: 0.5470\n",
      "Epoch 45/100\n",
      "4000/4000 [==============================] - 4s 928us/step - loss: 0.9647 - accuracy: 0.6008 - val_loss: 1.8750 - val_accuracy: 0.5420\n",
      "Epoch 46/100\n",
      "4000/4000 [==============================] - 4s 936us/step - loss: 0.9330 - accuracy: 0.6173 - val_loss: 1.8464 - val_accuracy: 0.5370\n",
      "Epoch 47/100\n",
      "4000/4000 [==============================] - 4s 942us/step - loss: 0.9141 - accuracy: 0.6195 - val_loss: 1.7357 - val_accuracy: 0.5390\n",
      "Epoch 48/100\n",
      "4000/4000 [==============================] - 4s 931us/step - loss: 0.8889 - accuracy: 0.6335 - val_loss: 1.5426 - val_accuracy: 0.5500\n",
      "Epoch 49/100\n",
      "4000/4000 [==============================] - 4s 929us/step - loss: 0.8836 - accuracy: 0.6275 - val_loss: 1.3878 - val_accuracy: 0.5590\n",
      "Epoch 50/100\n",
      "4000/4000 [==============================] - 4s 930us/step - loss: 0.8934 - accuracy: 0.6195 - val_loss: 1.3252 - val_accuracy: 0.5660\n",
      "Epoch 51/100\n",
      "4000/4000 [==============================] - 4s 928us/step - loss: 0.8956 - accuracy: 0.6325 - val_loss: 1.3200 - val_accuracy: 0.5630\n",
      "Epoch 52/100\n",
      "4000/4000 [==============================] - 4s 930us/step - loss: 0.8900 - accuracy: 0.6248 - val_loss: 1.2641 - val_accuracy: 0.5680\n",
      "Epoch 53/100\n",
      "4000/4000 [==============================] - 4s 928us/step - loss: 0.8870 - accuracy: 0.6208 - val_loss: 1.1774 - val_accuracy: 0.5770\n",
      "Epoch 54/100\n",
      "4000/4000 [==============================] - 4s 927us/step - loss: 0.8531 - accuracy: 0.6342 - val_loss: 1.1267 - val_accuracy: 0.5860\n",
      "Epoch 55/100\n",
      "4000/4000 [==============================] - 4s 942us/step - loss: 0.8486 - accuracy: 0.6250 - val_loss: 1.1334 - val_accuracy: 0.5800\n",
      "Epoch 56/100\n"
     ]
    },
    {
     "name": "stdout",
     "output_type": "stream",
     "text": [
      "4000/4000 [==============================] - 4s 941us/step - loss: 0.8548 - accuracy: 0.6158 - val_loss: 1.1964 - val_accuracy: 0.5770\n",
      "Epoch 57/100\n",
      "4000/4000 [==============================] - 4s 933us/step - loss: 0.8498 - accuracy: 0.6233 - val_loss: 1.2050 - val_accuracy: 0.5700\n",
      "Epoch 58/100\n",
      "4000/4000 [==============================] - 4s 936us/step - loss: 0.8354 - accuracy: 0.6300 - val_loss: 1.1119 - val_accuracy: 0.5890\n",
      "Epoch 59/100\n",
      "4000/4000 [==============================] - 4s 926us/step - loss: 0.8236 - accuracy: 0.6315 - val_loss: 1.0434 - val_accuracy: 0.6000\n",
      "Epoch 60/100\n",
      "4000/4000 [==============================] - 4s 943us/step - loss: 0.8278 - accuracy: 0.6208 - val_loss: 1.0454 - val_accuracy: 0.5980\n",
      "Epoch 61/100\n",
      "4000/4000 [==============================] - 4s 930us/step - loss: 0.8158 - accuracy: 0.6205 - val_loss: 1.0935 - val_accuracy: 0.5860\n",
      "Epoch 62/100\n",
      "4000/4000 [==============================] - 4s 952us/step - loss: 0.8366 - accuracy: 0.6205 - val_loss: 1.0995 - val_accuracy: 0.5850\n",
      "Epoch 63/100\n",
      "4000/4000 [==============================] - 4s 998us/step - loss: 0.7998 - accuracy: 0.6380 - val_loss: 1.0011 - val_accuracy: 0.6000\n",
      "Epoch 64/100\n",
      "4000/4000 [==============================] - 4s 960us/step - loss: 0.7875 - accuracy: 0.6308 - val_loss: 0.9239 - val_accuracy: 0.6190\n",
      "Epoch 65/100\n",
      "4000/4000 [==============================] - 4s 926us/step - loss: 0.7913 - accuracy: 0.6208 - val_loss: 0.9129 - val_accuracy: 0.6190\n",
      "Epoch 66/100\n",
      "4000/4000 [==============================] - 4s 931us/step - loss: 0.8122 - accuracy: 0.6140 - val_loss: 0.9524 - val_accuracy: 0.6040\n",
      "Epoch 67/100\n",
      "4000/4000 [==============================] - 4s 944us/step - loss: 0.8021 - accuracy: 0.6135 - val_loss: 0.9703 - val_accuracy: 0.6030\n",
      "Epoch 68/100\n",
      "4000/4000 [==============================] - 4s 956us/step - loss: 0.7903 - accuracy: 0.6352 - val_loss: 0.8981 - val_accuracy: 0.6210\n",
      "Epoch 69/100\n",
      "4000/4000 [==============================] - 4s 989us/step - loss: 0.7796 - accuracy: 0.6325 - val_loss: 0.8690 - val_accuracy: 0.6310\n",
      "Epoch 70/100\n",
      "4000/4000 [==============================] - 4s 983us/step - loss: 0.7777 - accuracy: 0.6398 - val_loss: 0.9019 - val_accuracy: 0.6300\n",
      "Epoch 71/100\n",
      "4000/4000 [==============================] - 4s 944us/step - loss: 0.7958 - accuracy: 0.6175 - val_loss: 0.9787 - val_accuracy: 0.6100\n",
      "Epoch 72/100\n",
      "4000/4000 [==============================] - 4s 948us/step - loss: 0.7842 - accuracy: 0.6348 - val_loss: 1.0231 - val_accuracy: 0.6020\n",
      "Epoch 73/100\n",
      "4000/4000 [==============================] - 4s 944us/step - loss: 0.7573 - accuracy: 0.6525 - val_loss: 1.0227 - val_accuracy: 0.6050\n",
      "Epoch 74/100\n",
      "4000/4000 [==============================] - 4s 939us/step - loss: 0.7853 - accuracy: 0.6410 - val_loss: 1.0200 - val_accuracy: 0.6070\n",
      "Epoch 75/100\n",
      "4000/4000 [==============================] - 4s 946us/step - loss: 0.7524 - accuracy: 0.6407 - val_loss: 1.0840 - val_accuracy: 0.5980\n",
      "Epoch 76/100\n",
      "4000/4000 [==============================] - 4s 931us/step - loss: 0.7739 - accuracy: 0.6382 - val_loss: 1.1373 - val_accuracy: 0.5900\n",
      "Epoch 77/100\n",
      "4000/4000 [==============================] - 4s 937us/step - loss: 0.7391 - accuracy: 0.6472 - val_loss: 1.1184 - val_accuracy: 0.5920\n",
      "Epoch 78/100\n",
      "4000/4000 [==============================] - 4s 926us/step - loss: 0.7558 - accuracy: 0.6428 - val_loss: 1.0425 - val_accuracy: 0.5990\n",
      "Epoch 79/100\n",
      "4000/4000 [==============================] - 4s 930us/step - loss: 0.7454 - accuracy: 0.6545 - val_loss: 0.9686 - val_accuracy: 0.6040\n",
      "Epoch 80/100\n",
      "4000/4000 [==============================] - 4s 931us/step - loss: 0.7542 - accuracy: 0.6325 - val_loss: 0.9490 - val_accuracy: 0.6030\n",
      "Epoch 81/100\n",
      "4000/4000 [==============================] - 4s 935us/step - loss: 0.7266 - accuracy: 0.6518 - val_loss: 0.9699 - val_accuracy: 0.6020\n",
      "Epoch 82/100\n",
      "4000/4000 [==============================] - 4s 936us/step - loss: 0.7353 - accuracy: 0.6440 - val_loss: 0.9799 - val_accuracy: 0.5990\n",
      "Epoch 83/100\n",
      "4000/4000 [==============================] - 4s 928us/step - loss: 0.7411 - accuracy: 0.6467 - val_loss: 0.9471 - val_accuracy: 0.6020\n",
      "Epoch 84/100\n",
      "4000/4000 [==============================] - 4s 944us/step - loss: 0.7407 - accuracy: 0.6520 - val_loss: 0.9248 - val_accuracy: 0.6110\n",
      "Epoch 85/100\n",
      "4000/4000 [==============================] - 4s 977us/step - loss: 0.7578 - accuracy: 0.6330 - val_loss: 0.9381 - val_accuracy: 0.6130\n",
      "Epoch 86/100\n",
      "4000/4000 [==============================] - 4s 950us/step - loss: 0.7416 - accuracy: 0.6417 - val_loss: 0.9791 - val_accuracy: 0.6040\n",
      "Epoch 87/100\n",
      "4000/4000 [==============================] - 4s 955us/step - loss: 0.7531 - accuracy: 0.6460 - val_loss: 0.9779 - val_accuracy: 0.6040\n",
      "Epoch 88/100\n",
      "4000/4000 [==============================] - 4s 969us/step - loss: 0.7414 - accuracy: 0.6488 - val_loss: 0.8899 - val_accuracy: 0.6240\n",
      "Epoch 89/100\n",
      "4000/4000 [==============================] - 4s 927us/step - loss: 0.7143 - accuracy: 0.6622 - val_loss: 0.8199 - val_accuracy: 0.6340\n",
      "Epoch 90/100\n",
      "4000/4000 [==============================] - 4s 933us/step - loss: 0.7436 - accuracy: 0.6450 - val_loss: 0.8177 - val_accuracy: 0.6280\n",
      "Epoch 91/100\n",
      "4000/4000 [==============================] - 4s 943us/step - loss: 0.7124 - accuracy: 0.6507 - val_loss: 0.8311 - val_accuracy: 0.6240\n",
      "Epoch 92/100\n",
      "4000/4000 [==============================] - 4s 933us/step - loss: 0.7164 - accuracy: 0.6585 - val_loss: 0.8010 - val_accuracy: 0.6300\n",
      "Epoch 93/100\n",
      "4000/4000 [==============================] - 4s 928us/step - loss: 0.7228 - accuracy: 0.6485 - val_loss: 0.7484 - val_accuracy: 0.6320\n",
      "Epoch 94/100\n",
      "4000/4000 [==============================] - 4s 927us/step - loss: 0.7275 - accuracy: 0.6478 - val_loss: 0.7237 - val_accuracy: 0.6380\n",
      "Epoch 95/100\n",
      "4000/4000 [==============================] - 4s 943us/step - loss: 0.7017 - accuracy: 0.6590 - val_loss: 0.7279 - val_accuracy: 0.6320\n",
      "Epoch 96/100\n",
      "4000/4000 [==============================] - 4s 930us/step - loss: 0.7104 - accuracy: 0.6453 - val_loss: 0.7212 - val_accuracy: 0.6310\n",
      "Epoch 97/100\n",
      "4000/4000 [==============================] - 4s 931us/step - loss: 0.7167 - accuracy: 0.6503 - val_loss: 0.6889 - val_accuracy: 0.6400\n",
      "Epoch 98/100\n",
      "4000/4000 [==============================] - 4s 931us/step - loss: 0.6852 - accuracy: 0.6607 - val_loss: 0.6732 - val_accuracy: 0.6460\n",
      "Epoch 99/100\n",
      "4000/4000 [==============================] - 4s 932us/step - loss: 0.7007 - accuracy: 0.6582 - val_loss: 0.6852 - val_accuracy: 0.6420\n",
      "Epoch 100/100\n",
      "4000/4000 [==============================] - 4s 945us/step - loss: 0.7161 - accuracy: 0.6438 - val_loss: 0.6883 - val_accuracy: 0.6390\n"
     ]
    }
   ],
   "source": [
    "model = Sequential([\n",
    "  Conv2D(8, (3,3), strides=1, input_shape=(66, 66, 3), activation='elu'),\n",
    "  #Conv2D(8, (3,3), strides=1, input_shape=(64, 64, 3), activation='elu'),\n",
    "  MaxPooling2D(pool_size=(2,2), strides=(2,2)),\n",
    "  Dropout(0.4),\n",
    "\n",
    "  Conv2D(16, (3,3), strides=1, input_shape=(66, 66, 3), activation='elu'),\n",
    "  #Conv2D(16, (3,3), strides=1, input_shape=(64, 64, 3), activation='elu'),\n",
    "  MaxPooling2D(pool_size=(2,2), strides=(2,2)),\n",
    "  Dropout(0.4),\n",
    "    \n",
    "  Conv2D(32, (3,3), strides=1, input_shape=(66, 66, 3), activation='elu'),\n",
    "  #Conv2D(32, (3,3), strides=1, input_shape=(64, 64, 3), activation='elu'),\n",
    "  MaxPooling2D(pool_size=(2,2), strides=(2,2)),\n",
    "  Dropout(0.4),\n",
    "  \n",
    "  Conv2D(32, (1,1), strides=1, input_shape=(66, 66, 3), activation='elu'),\n",
    "  Dropout(0.4),  \n",
    "    \n",
    "  \n",
    "  Flatten(),\n",
    "  Dense(3, activation='softmax'),  #3= category for the three type of images\n",
    "    \n",
    "])\n",
    "\n",
    "loss = 'categorical_crossentropy'\n",
    "LEARNING_RATE = 0.01\n",
    "EPOCHS = 100\n",
    "\n",
    "model.compile(loss=loss,\n",
    "               optimizer=Adam(lr=LEARNING_RATE), # SGD(lr=LEARNING_RATE)\n",
    "               metrics=['accuracy'])\n",
    "\n",
    "history = model.fit(X_train,\n",
    "                     Y_train,\n",
    "                     epochs=EPOCHS,\n",
    "                     validation_data=(x_val, y_val),\n",
    "                     batch_size=X_train.shape[0])"
   ]
  },
  {
   "cell_type": "code",
   "execution_count": 116,
   "metadata": {},
   "outputs": [
    {
     "data": {
      "image/png": "[encoded data removed]",
      "text/plain": [
       "<Figure size 432x288 with 2 Axes>"
      ]
     },
     "metadata": {
      "needs_background": "light"
     },
     "output_type": "display_data"
    }
   ],
   "source": [
    "import pandas as pd\n",
    "%matplotlib inline\n",
    "\n",
    "fig, ax1 = plt.subplots()\n",
    "\n",
    "plt.plot(history.history['loss'][4:], label='loss')\n",
    "plt.plot(history.history['val_loss'][4:], c = 'black', label='val_loss')\n",
    "plt.legend()\n",
    "\n",
    "ax2 = ax1.twinx()\n",
    "plt.plot(history.history['accuracy'][4:], c = 'orange', label='accuracy')\n",
    "plt.plot(history.history['val_accuracy'][4:], c = 'red', label='val_accuracy')\n",
    "plt.ylim(bottom=0, top=1)\n",
    "plt.legend()\n",
    "\n",
    "plt.grid(True)\n",
    "plt.title('Model performance throughout training')\n",
    "plt.xlabel('epoch');"
   ]
  },
  {
   "cell_type": "code",
   "execution_count": null,
   "metadata": {},
   "outputs": [],
   "source": []
  },
  {
   "cell_type": "code",
   "execution_count": null,
   "metadata": {},
   "outputs": [],
   "source": []
  },
  {
   "cell_type": "code",
   "execution_count": null,
   "metadata": {},
   "outputs": [],
   "source": []
  },
  {
   "cell_type": "code",
   "execution_count": null,
   "metadata": {},
   "outputs": [],
   "source": []
  },
  {
   "cell_type": "code",
   "execution_count": null,
   "metadata": {},
   "outputs": [],
   "source": []
  },
  {
   "cell_type": "code",
   "execution_count": null,
   "metadata": {},
   "outputs": [],
   "source": []
  }
 ],
 "metadata": {
  "kernelspec": {
   "display_name": "Python 3",
   "language": "python",
   "name": "python3"
  },
  "language_info": {
   "codemirror_mode": {
    "name": "ipython",
    "version": 3
   },
   "file_extension": ".py",
   "mimetype": "text/x-python",
   "name": "python",
   "nbconvert_exporter": "python",
   "pygments_lexer": "ipython3",
   "version": "3.7.3"
  },
  "toc": {
   "base_numbering": 1,
   "nav_menu": {},
   "number_sections": true,
   "sideBar": true,
   "skip_h1_title": false,
   "title_cell": "Table of Contents",
   "title_sidebar": "Contents",
   "toc_cell": false,
   "toc_position": {},
   "toc_section_display": true,
   "toc_window_display": true
  }
 },
 "nbformat": 4,
 "nbformat_minor": 2
}
