{
 "cells": [
  {
   "cell_type": "code",
   "execution_count": 1,
   "metadata": {},
   "outputs": [],
   "source": [
    "import pandas as pd\n",
    "from pandas import read_csv\n",
    "import matplotlib.image as mpimg\n",
    "import matplotlib.pyplot as plt\n",
    "import numpy as np\n",
    "import cv2\n",
    "import glob\n",
    "import os"
   ]
  },
  {
   "cell_type": "code",
   "execution_count": 2,
   "metadata": {},
   "outputs": [],
   "source": [
    "im_path = glob.glob('../../../images_training_rev1/*.jpg')"
   ]
  },
  {
   "cell_type": "code",
   "execution_count": 3,
   "metadata": {},
   "outputs": [],
   "source": [
    "def crop_im(path_im):\n",
    "    compteur = []\n",
    "    \n",
    "    for path in path_im:\n",
    "        # récupération nom de l'image\n",
    "        im_name = os.path.basename(path)\n",
    "\n",
    "        # récupération des images\n",
    "        img = cv2.imread(path)\n",
    "        img = cv2.pyrDown(img)\n",
    "        img_grey = cv2.cvtColor(img, cv2.COLOR_BGR2GRAY)\n",
    "        \n",
    "\n",
    "        # génération du masque de contour\n",
    "        ret, thresh = cv2.threshold(img_grey, thresh=60, maxval=255, type=0)\n",
    "        contours, hierarchy = cv2.findContours(thresh, 1, 2)\n",
    "\n",
    "        # Récupération de la forme centrale\n",
    "        middle_img = round(img.shape[0]/2)\n",
    "        for contour in contours:\n",
    "            if cv2.pointPolygonTest(contour,(middle_img,middle_img),False) == 1:\n",
    "                cnt = contour\n",
    "                continue\n",
    "\n",
    "        # ciblage avec rectangle\n",
    "        x,y,w,h = cv2.boundingRect(cnt)\n",
    "\n",
    "        # récupération image inclue dans le rectangle\n",
    "        img_crop = img[y:y+h, x:x+w]\n",
    "\n",
    "        # sauvegarde nouvelle image\n",
    "        new_folder = os.path.dirname(path) + '_resize/'\n",
    "        cv2.imwrite(new_folder + im_name,img_crop)\n",
    "        \n",
    "        compteur.append({h,w}) \n",
    "        \n",
    "    return compteur"
   ]
  },
  {
   "cell_type": "code",
   "execution_count": 4,
   "metadata": {},
   "outputs": [],
   "source": [
    "c = crop_im(im_path)"
   ]
  },
  {
   "cell_type": "code",
   "execution_count": 5,
   "metadata": {},
   "outputs": [],
   "source": [
    "import statistics\n",
    "# Use: statistics.mean(liste)\n",
    " \n",
    "from statistics import mean, stdev\n",
    "# Use: mean(liste)"
   ]
  },
  {
   "cell_type": "code",
   "execution_count": 10,
   "metadata": {},
   "outputs": [
    {
     "data": {
      "text/plain": [
       "66"
      ]
     },
     "execution_count": 10,
     "metadata": {},
     "output_type": "execute_result"
    }
   ],
   "source": [
    "max_size = []\n",
    "for compteur in c:\n",
    "    max_size.append(max(compteur))\n",
    "size = mean(max_size) + stdev(max_size)\n",
    "size = round(size)\n",
    "size"
   ]
  },
  {
   "cell_type": "code",
   "execution_count": 7,
   "metadata": {},
   "outputs": [
    {
     "data": {
      "text/plain": [
       "True"
      ]
     },
     "execution_count": 7,
     "metadata": {},
     "output_type": "execute_result"
    }
   ],
   "source": [
    "black = np.zeros((size,size,3), np.uint8)\n",
    "cv2.imwrite('./blacksquare.jpg',black)"
   ]
  },
  {
   "cell_type": "code",
   "execution_count": 8,
   "metadata": {},
   "outputs": [],
   "source": [
    "def fusion(s_img, black_img):\n",
    "    x_offset= round((black_img.shape[1] - s_img.shape[1]) / 2 ) \n",
    "    y_offset= round((black_img.shape[0] - s_img.shape[0]) / 2 )\n",
    "    black_img[y_offset:y_offset+s_img.shape[0], x_offset:x_offset+s_img.shape[1]] = s_img\n",
    "    return black_img"
   ]
  },
  {
   "cell_type": "code",
   "execution_count": 17,
   "metadata": {},
   "outputs": [],
   "source": [
    "im_path_resize = glob.glob('../../../images_training_rev1_resize/*.jpg')"
   ]
  },
  {
   "cell_type": "code",
   "execution_count": 18,
   "metadata": {},
   "outputs": [],
   "source": [
    "def uniform(path_im_resize):\n",
    "    for path in path_im_resize:\n",
    "        # récupération nom de l'image\n",
    "        im_name = os.path.basename(path)\n",
    "        \n",
    "        # récupération des images\n",
    "        img = cv2.imread(path)\n",
    "\n",
    "        # Mise à taille d'image identique\n",
    "        black_img = cv2.imread(\"blacksquare.jpg\")\n",
    "        \n",
    "        # Ignore les images trop grandes\n",
    "        if img.shape[1] > black_img.shape[0] or img.shape[0] > black_img.shape[0]:\n",
    "            continue\n",
    "        \n",
    "        # Mise à taille d'image identique\n",
    "        img_black = fusion(img, black_img)\n",
    "        \n",
    "        # sauvegarde nouvelle image\n",
    "        new_folder = os.path.dirname(path) + '_black/'\n",
    "        cv2.imwrite(new_folder + im_name, img_black)\n",
    "        \n",
    "    return img_black.shape"
   ]
  },
  {
   "cell_type": "code",
   "execution_count": 19,
   "metadata": {},
   "outputs": [
    {
     "data": {
      "text/plain": [
       "(66, 66, 3)"
      ]
     },
     "execution_count": 19,
     "metadata": {},
     "output_type": "execute_result"
    }
   ],
   "source": [
    "sh = uniform(im_path_resize)\n",
    "sh"
   ]
  },
  {
   "cell_type": "code",
   "execution_count": null,
   "metadata": {},
   "outputs": [],
   "source": []
  }
 ],
 "metadata": {
  "kernelspec": {
   "display_name": "Python 3",
   "language": "python",
   "name": "python3"
  },
  "language_info": {
   "codemirror_mode": {
    "name": "ipython",
    "version": 3
   },
   "file_extension": ".py",
   "mimetype": "text/x-python",
   "name": "python",
   "nbconvert_exporter": "python",
   "pygments_lexer": "ipython3",
   "version": "3.7.3"
  },
  "toc": {
   "base_numbering": 1,
   "nav_menu": {},
   "number_sections": true,
   "sideBar": true,
   "skip_h1_title": false,
   "title_cell": "Table of Contents",
   "title_sidebar": "Contents",
   "toc_cell": false,
   "toc_position": {},
   "toc_section_display": true,
   "toc_window_display": false
  }
 },
 "nbformat": 4,
 "nbformat_minor": 2
}
